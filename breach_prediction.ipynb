{
 "cells": [
  {
   "cell_type": "code",
   "execution_count": 1,
   "metadata": {},
   "outputs": [],
   "source": [
    "import gensim\n",
    "from gensim.utils import simple_preprocess\n",
    "from gensim.parsing.preprocessing import STOPWORDS\n",
    "import pickle\n",
    "from sklearn.feature_extraction.text import TfidfVectorizer\n",
    "import numpy as np\n",
    "from scipy import sparse\n",
    "import pickle\n",
    "import nltk\n",
    "from gensim import models\n",
    "from nltk.stem import WordNetLemmatizer, SnowballStemmer"
   ]
  },
  {
   "cell_type": "code",
   "execution_count": 2,
   "metadata": {},
   "outputs": [],
   "source": [
    "def lemmatize_stemming(text):\n",
    "    stemmer = SnowballStemmer('english')\n",
    "    return stemmer.stem(WordNetLemmatizer().lemmatize(text, pos='v'))\n",
    "def preprocess(text):\n",
    "    result = []\n",
    "    for token in gensim.utils.simple_preprocess(text):\n",
    "        if token not in gensim.parsing.preprocessing.STOPWORDS and len(token) > 3:\n",
    "            result.append(lemmatize_stemming(token))\n",
    "    return result"
   ]
  },
  {
   "cell_type": "code",
   "execution_count": 3,
   "metadata": {},
   "outputs": [],
   "source": [
    "# calculate bow corpus for a text\n",
    "def bowcorpus(textArray):\n",
    "    preprocesstext = [preprocess(text) for text in textArray]\n",
    "    dictionary = gensim.corpora.Dictionary(preprocesstext)\n",
    "    dictionary.filter_extremes(no_below=15, no_above=0.5, keep_n=100000)\n",
    "    return [dictionary.doc2bow(doc) for doc in preprocesstext]"
   ]
  },
  {
   "cell_type": "code",
   "execution_count": 4,
   "metadata": {},
   "outputs": [],
   "source": [
    "def ldaVecs(docs, corpus, ldaModel):\n",
    "    train_vecs = []\n",
    "    for i in range(len(docs)):\n",
    "        top_topics = ldaModel.get_document_topics(corpus[i], minimum_probability=0.0)\n",
    "        topic_vec = [top_topics[i][1] for i in range(20)]\n",
    "#         topic_vec.extend([len(docs[i])]) # length of description\n",
    "        train_vecs.append(topic_vec)\n",
    "    return train_vecs"
   ]
  },
  {
   "cell_type": "code",
   "execution_count": 5,
   "metadata": {},
   "outputs": [],
   "source": [
    "def getVectors(testData):\n",
    "    tfidfVectorizer = pickle.load(open(\"tfidf.pickle\", \"rb\"))\n",
    "    tfidfVectors = tfidfVectorizer.transform(testData)\n",
    "    # get lda train model\n",
    "    lda_train =  models.LdaModel.load('lda_train.model')\n",
    "    ldaVectors = ldaVecs(testData, bowcorpus(testData), lda_train)\n",
    "    sparse_lda =sparse.csr_matrix(ldaVectors)\n",
    "    return sparse.hstack((tfidfVectors, sparse_lda))"
   ]
  },
  {
   "cell_type": "code",
   "execution_count": 6,
   "metadata": {},
   "outputs": [],
   "source": [
    "def predict(testData):\n",
    "    np.random.seed(2018)\n",
    "    nltk.download('wordnet')\n",
    "    pkl_filename = \"best_model.pkl\"\n",
    "    # Load from file\n",
    "    with open(pkl_filename, 'rb') as file:\n",
    "        pickle_model = pickle.load(file)\n",
    "        \n",
    "    testVectors = getVectors(testData)\n",
    "    return pickle_model.predict(testVectors)"
   ]
  },
  {
   "cell_type": "code",
   "execution_count": 7,
   "metadata": {},
   "outputs": [
    {
     "name": "stderr",
     "output_type": "stream",
     "text": [
      "[nltk_data] Downloading package wordnet to\n",
      "[nltk_data]     C:\\Users\\Priyanka\\AppData\\Roaming\\nltk_data...\n",
      "[nltk_data]   Package wordnet is already up-to-date!\n"
     ]
    },
    {
     "name": "stdout",
     "output_type": "stream",
     "text": [
      "['PORT']\n"
     ]
    }
   ],
   "source": [
    "prediction = predict([\"An office theft of an unencrypted laptop on or around December 15 resulted in the exposure of confidential personal information. Â The laptop contained an Excel spreadsheet with workers' compensation information such as names, Social Security numbers, telephone numbers, and other workers' compensation claim or injury information.\"])\n",
    "print(prediction)"
   ]
  },
  {
   "cell_type": "code",
   "execution_count": 8,
   "metadata": {},
   "outputs": [
    {
     "name": "stderr",
     "output_type": "stream",
     "text": [
      "<ipython-input-8-7f742d579149>:5: SettingWithCopyWarning: \n",
      "A value is trying to be set on a copy of a slice from a DataFrame.\n",
      "Try using .loc[row_indexer,col_indexer] = value instead\n",
      "\n",
      "See the caveats in the documentation: https://pandas.pydata.org/pandas-docs/stable/user_guide/indexing.html#returning-a-view-versus-a-copy\n",
      "  data_text['Type of breach'] = data[['Type of breach']]\n",
      "<ipython-input-8-7f742d579149>:6: SettingWithCopyWarning: \n",
      "A value is trying to be set on a copy of a slice from a DataFrame.\n",
      "Try using .loc[row_indexer,col_indexer] = value instead\n",
      "\n",
      "See the caveats in the documentation: https://pandas.pydata.org/pandas-docs/stable/user_guide/indexing.html#returning-a-view-versus-a-copy\n",
      "  data_text['index'] = data_text.index\n",
      "[nltk_data] Downloading package wordnet to\n",
      "[nltk_data]     C:\\Users\\Priyanka\\AppData\\Roaming\\nltk_data...\n",
      "[nltk_data]   Package wordnet is already up-to-date!\n"
     ]
    }
   ],
   "source": [
    "import pandas as pd\n",
    "data = pd.read_csv('data_2005-2019.csv', error_bad_lines=False).drop_duplicates('Description of incident', keep='last')\n",
    "data = data[pd.notnull(data['Description of incident'])]\n",
    "data_text = data[['Description of incident']]\n",
    "data_text['Type of breach'] = data[['Type of breach']]\n",
    "data_text['index'] = data_text.index\n",
    "documents = data_text\n",
    "\n",
    "y_pred = predict(documents['Description of incident'])"
   ]
  },
  {
   "cell_type": "code",
   "execution_count": 10,
   "metadata": {},
   "outputs": [
    {
     "data": {
      "image/png": "[encoded data removed]",
      "text/plain": [
       "<Figure size 576x432 with 2 Axes>"
      ]
     },
     "metadata": {
      "needs_background": "light"
     },
     "output_type": "display_data"
    }
   ],
   "source": [
    "from sklearn.metrics import confusion_matrix\n",
    "import matplotlib.pyplot as plt\n",
    "import seaborn as sns\n",
    "labels = documents['Type of breach'].unique()\n",
    "conf_mat = confusion_matrix(documents['Type of breach'], y_pred)\n",
    "fig, ax = plt.subplots(figsize=(8,6))\n",
    "sns.heatmap(conf_mat, annot=True, fmt='d',\n",
    "            xticklabels=labels, yticklabels=labels,cmap=\"Blues\")\n",
    "plt.ylabel('Actual')\n",
    "plt.xlabel('Predicted')\n",
    "plt.savefig('confusion_matrix.png', dpi=400)\n",
    "plt.show()"
   ]
  },
  {
   "cell_type": "code",
   "execution_count": 12,
   "metadata": {},
   "outputs": [],
   "source": [
    "from sklearn import metrics\n",
    "report = metrics.classification_report(documents['Type of breach'], y_pred, \n",
    "                                    target_names=labels, output_dict=True)\n",
    "df = pd.DataFrame(report).transpose()"
   ]
  },
  {
   "cell_type": "code",
   "execution_count": 13,
   "metadata": {},
   "outputs": [
    {
     "name": "stdout",
     "output_type": "stream",
     "text": [
      "              precision    recall  f1-score      support\n",
      "HACK           0.893939  0.867647  0.880597    68.000000\n",
      "DISC           0.946977  0.940850  0.943904  1082.000000\n",
      "INSD           0.961264  0.971164  0.966189  1942.000000\n",
      "PHYS           0.955446  0.957025  0.956235   605.000000\n",
      "PORT           0.947967  0.908100  0.927605   642.000000\n",
      "CARD           0.949336  0.984496  0.966596  1161.000000\n",
      "STAT           0.972851  0.863454  0.914894   249.000000\n",
      "accuracy       0.953731  0.953731  0.953731     0.953731\n",
      "macro avg      0.946826  0.927534  0.936574  5749.000000\n",
      "weighted avg   0.953774  0.953731  0.953486  5749.000000\n"
     ]
    }
   ],
   "source": [
    "print(df)"
   ]
  },
  {
   "cell_type": "code",
   "execution_count": 14,
   "metadata": {},
   "outputs": [
    {
     "name": "stdout",
     "output_type": "stream",
     "text": [
      "\\begin{tabular}{lrrrr}\n",
      "\\toprule\n",
      "{} &  precision &    recall &  f1-score &      support \\\\\n",
      "\\midrule\n",
      "HACK         &   0.893939 &  0.867647 &  0.880597 &    68.000000 \\\\\n",
      "DISC         &   0.946977 &  0.940850 &  0.943904 &  1082.000000 \\\\\n",
      "INSD         &   0.961264 &  0.971164 &  0.966189 &  1942.000000 \\\\\n",
      "PHYS         &   0.955446 &  0.957025 &  0.956235 &   605.000000 \\\\\n",
      "PORT         &   0.947967 &  0.908100 &  0.927605 &   642.000000 \\\\\n",
      "CARD         &   0.949336 &  0.984496 &  0.966596 &  1161.000000 \\\\\n",
      "STAT         &   0.972851 &  0.863454 &  0.914894 &   249.000000 \\\\\n",
      "accuracy     &   0.953731 &  0.953731 &  0.953731 &     0.953731 \\\\\n",
      "macro avg    &   0.946826 &  0.927534 &  0.936574 &  5749.000000 \\\\\n",
      "weighted avg &   0.953774 &  0.953731 &  0.953486 &  5749.000000 \\\\\n",
      "\\bottomrule\n",
      "\\end{tabular}\n",
      "\n"
     ]
    }
   ],
   "source": [
    "print(df.to_latex())"
   ]
  },
  {
   "cell_type": "code",
   "execution_count": null,
   "metadata": {},
   "outputs": [],
   "source": []
  }
 ],
 "metadata": {
  "kernelspec": {
   "display_name": "Python 3",
   "language": "python",
   "name": "python3"
  },
  "language_info": {
   "codemirror_mode": {
    "name": "ipython",
    "version": 3
   },
   "file_extension": ".py",
   "mimetype": "text/x-python",
   "name": "python",
   "nbconvert_exporter": "python",
   "pygments_lexer": "ipython3",
   "version": "3.8.3"
  }
 },
 "nbformat": 4,
 "nbformat_minor": 4
}
