{
 "cells": [
  {
   "cell_type": "code",
   "execution_count": 1,
   "metadata": {},
   "outputs": [],
   "source": [
    "import gensim\n",
    "from gensim.utils import simple_preprocess\n",
    "from gensim.parsing.preprocessing import STOPWORDS\n",
    "from flask import request, jsonify, Flask\n",
    "import pickle\n",
    "from sklearn.feature_extraction.text import TfidfVectorizer\n",
    "import numpy as np\n",
    "from scipy import sparse\n",
    "import pickle\n",
    "from gensim import models\n",
    "from nltk.stem import WordNetLemmatizer, SnowballStemmer\n",
    "\n",
    "app = Flask(__name__)\n",
    "\n",
    "def lemmatize_stemming(text):\n",
    "    stemmer = SnowballStemmer('english')\n",
    "    return stemmer.stem(WordNetLemmatizer().lemmatize(text, pos='v'))\n",
    "def preprocess(text):\n",
    "    result = []\n",
    "    for token in gensim.utils.simple_preprocess(text):\n",
    "        if token not in gensim.parsing.preprocessing.STOPWORDS and len(token) > 3:\n",
    "            result.append(lemmatize_stemming(token))\n",
    "    return result\n",
    "\n",
    "# calculate bow corpus for a text\n",
    "def bowcorpus(textArray):\n",
    "    preprocesstext = [preprocess(text) for text in textArray]\n",
    "    dictionary = gensim.corpora.Dictionary(preprocesstext)\n",
    "    dictionary.filter_extremes(no_below=15, no_above=0.5, keep_n=100000)\n",
    "    return [dictionary.doc2bow(doc) for doc in preprocesstext]\n",
    "\n",
    "def ldaVecs(docs, corpus, ldaModel):\n",
    "    train_vecs = []\n",
    "    for i in range(len(docs)):\n",
    "        top_topics = ldaModel.get_document_topics(corpus[i], minimum_probability=0.0)\n",
    "        topic_vec = [top_topics[i][1] for i in range(20)]\n",
    "        topic_vec.extend([len(docs[i])]) # length of description\n",
    "        train_vecs.append(topic_vec)\n",
    "    return train_vecs\n",
    "def getVectors(testData):\n",
    "    tfidfVectorizer = pickle.load(open(\"tfidf.pickle\", \"rb\"))\n",
    "    tfidfVectors = tfidfVectorizer.transform(testData)\n",
    "    # get lda train model\n",
    "    lda_train =  models.LdaModel.load('lda_train.model')\n",
    "    ldaVectors = ldaVecs(testData, bowcorpus(testData), lda_train)\n",
    "    sparse_lda =sparse.csr_matrix(ldaVectors)\n",
    "    return sparse.hstack((tfidfVectors, sparse_lda))\n",
    "\n",
    "def getPrediction(testData):\n",
    "    pkl_filename = \"best_model.pkl\"\n",
    "    # Load from file\n",
    "    with open(pkl_filename, 'rb') as file:\n",
    "        pickle_model = pickle.load(file)\n",
    "        \n",
    "    testVectors = getVectors(testData)\n",
    "    return pickle_model.predict(testVectors)"
   ]
  },
  {
   "cell_type": "code",
   "execution_count": 3,
   "metadata": {},
   "outputs": [
    {
     "name": "stdout",
     "output_type": "stream",
     "text": [
      "['PHYS']\n"
     ]
    }
   ],
   "source": [
    "prediction = getPrediction([\"Hundreds of papers were found along a road in Des Plaines. Some were job applications for Rabjohns Financial Group/New England Financial in Chicago and corresponsing UF forms.Â  W-2 forms and investment statements from 2009 were also among the papers.Â  It is unclear how the information ended up in the road.\"])\n",
    "print(prediction)"
   ]
  },
  {
   "cell_type": "code",
   "execution_count": null,
   "metadata": {},
   "outputs": [],
   "source": []
  }
 ],
 "metadata": {
  "kernelspec": {
   "display_name": "Python 3",
   "language": "python",
   "name": "python3"
  },
  "language_info": {
   "codemirror_mode": {
    "name": "ipython",
    "version": 3
   },
   "file_extension": ".py",
   "mimetype": "text/x-python",
   "name": "python",
   "nbconvert_exporter": "python",
   "pygments_lexer": "ipython3",
   "version": "3.8.3"
  }
 },
 "nbformat": 4,
 "nbformat_minor": 4
}
